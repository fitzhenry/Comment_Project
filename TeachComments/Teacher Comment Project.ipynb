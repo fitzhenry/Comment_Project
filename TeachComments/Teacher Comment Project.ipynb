{
 "cells": [
  {
   "cell_type": "code",
   "execution_count": 1,
   "metadata": {
    "collapsed": false
   },
   "outputs": [
    {
     "name": "stdout",
     "output_type": "stream",
     "text": [
      "Header: First,Last,Grade,Pronouns,Test,ProblemSet,Midterm,Projects,Overall,Participation,WorkEthic,Collaboration,,ExtraHelp,Self-Comments\n",
      "\n",
      "['Abigail', 'Terry', '11', 'she/her', '98', '100', '95', '100', '97.5', '10', '10', '9', '4', \"I enjoy this class and I'm looking for more of a challenge\\n\"]\n",
      "Header: First,Last,Grade,Pronouns,Test,ProblemSet,Midterm,Projects,Overall,Participation,WorkEthic,Collaboration,,ExtraHelp,Self-Comments\n",
      "\n",
      "['Lewis', 'Boyd', '12', 'he/him', '89', '92', '90', '95', '91.5', '8', '8', '9', '8', 'This class has been challenging at times but I feel like my performance hs been good.\\n']\n",
      "Header: First,Last,Grade,Pronouns,Test,ProblemSet,Midterm,Projects,Overall,Participation,WorkEthic,Collaboration,,ExtraHelp,Self-Comments\n",
      "\n",
      "['Owen', 'Hudson', '12', 'he/him', '86', '90', '88', '93', '89', '9', '7', '10', '5', 'This class has been fairly challenging and enjoyable.\\n']\n",
      "Header: First,Last,Grade,Pronouns,Test,ProblemSet,Midterm,Projects,Overall,Participation,WorkEthic,Collaboration,,ExtraHelp,Self-Comments\n",
      "\n",
      "['Ann', 'Welsh', '12', 'she/her', '82', '94', '91', '83', '87', '5', '8', '4', '10', 'Although I have put a lot of work into this course the tests are still very challenging\\n']\n",
      "Header: First,Last,Grade,Pronouns,Test,ProblemSet,Midterm,Projects,Overall,Participation,WorkEthic,Collaboration,,ExtraHelp,Self-Comments\n",
      "\n",
      "['Cam', 'Griffith', '11', 'he/him', '74', '81', '75', '82', '78', '3', '2', '4', '2', 'This class has been really difficult and I am having a hard time grasping the concepts.']\n"
     ]
    }
   ],
   "source": [
    "# Take in teacher spreadsheet file that contains all of the info on each student\n",
    "\n",
    "\n",
    "with open('Teacher_comments.csv') as teach_comments:\n",
    "        header = teach_comments.readline()\n",
    "        for line in teach_comments:\n",
    "            line=line.split(',')\n",
    "            print(\"Header:\", header)\n",
    "            print(line)"
   ]
  },
  {
   "cell_type": "code",
   "execution_count": 15,
   "metadata": {
    "collapsed": false
   },
   "outputs": [
   ],
   "source": [
    "# function that creates a new text file for each student\n",
    "\n",
    "\n",
    "import csv\n",
    "def student_file():\n",
    "    '''Uses all the other functions to create a comments text file for each student.'''\n",
    "    with open('Teacher_comments.csv') as teach_comments:\n",
    "        header = teach_comments.readline()\n",
    "        for line in teach_comments:\n",
    "            line=line.split(',')\n",
    "            with open(f'{line[0] + \" \" + line[1]}.txt', 'w') as stufile:\n",
    "                stufile.write(f\"{course_info()}\\n\\n{line[0]}{participation_function(line[9], line[3])} {collaboration(line[11], line[3])} {extrahelp(line[-2], line[4], line[0], line[3])} {work_ethic(line[0], line[10], line[3])}\\n\\nAs for graded assignments, {tests(line[4], line[0], line[3])} In addition, {problemset(line[5], line[3])} {projects_function(line[7], line[3])} All in all, {midterm_function(line[6], line[3])}\\n\\nThis is what {line[0]} had to say about the class:\\n\\n'{line[-1]}\\n\\n{overall_function(line[8], line[0], line[3])}\")\n",
    "\n",
    "\n",
    "student_file()"
   ]
  },
  {
   "cell_type": "code",
   "execution_count": 3,
   "metadata": {
    "collapsed": false
   },
   "outputs": [
    {
     "data": {
      "text/plain": [
       "'This semester in Computer Science: Python Language, we learned about the basics of coding in Python 3.7. The units included concepts such as strings, lists, loops, and dictionaries, but we also did activities regarding craps betting, scrabble, hackathons, and more. Although the homework assignments were ungraded, students had problem sets and tests to complete for a grade, with one graded project and the midterm final as well. This class is beneficial for anyone wanting to take the second section of computer science: Data Science, next semester or to simply learn the basics of coding.'"
      ]
     },
     "execution_count": 3,
     "metadata": {
     },
     "output_type": "execute_result"
    }
   ],
   "source": [
    "# funtion that includes overview of comp. sci\n",
    "\n",
    "\n",
    "def course_info():\n",
    "    return \"This semester in Computer Science: Python Language, we learned about the basics of coding in Python 3.7. The units included concepts such as strings, lists, loops, and dictionaries, but we also did activities regarding craps betting, scrabble, hackathons, and more. Although the homework assignments were ungraded, students had problem sets and tests to complete for a grade, with one graded project and the midterm final as well. This class is beneficial for anyone wanting to take the second section of computer science: Data Science, next semester or to simply learn the basics of coding.\"\n",
    "\n",
    "course_info()"
   ]
  },
  {
   "cell_type": "code",
   "execution_count": 5,
   "metadata": {
    "collapsed": false
   },
   "outputs": [
    {
     "data": {
      "text/plain": [
       "1"
      ]
     },
     "execution_count": 5,
     "metadata": {
     },
     "output_type": "execute_result"
    }
   ],
   "source": [
    "# function for pronouns\n",
    "\n",
    "def pronoun_function(n):\n",
    "    '''Takes in pronouns (ex: she/her)\n",
    "    as a stringand returns a number value\n",
    "    associated with each (1, 2, 3).'''\n",
    "    if n == 'he/him':\n",
    "        return 1\n",
    "    elif n == 'she/her':\n",
    "        return 2\n",
    "    elif n == 'they/them':\n",
    "        return 3\n",
    "pronoun_function('he/him')"
   ]
  },
  {
   "cell_type": "code",
   "execution_count": 6,
   "metadata": {
    "collapsed": false
   },
   "outputs": [
    {
     "data": {
      "text/plain": [
       "'Mac works incredibly hard!'"
      ]
     },
     "execution_count": 6,
     "metadata": {
     },
     "output_type": "execute_result"
    }
   ],
   "source": [
    "# function for student work ethic\n",
    "\n",
    "\n",
    "def work_ethic(name, number, pronoun):\n",
    "    '''Takes in a number rating for work ethic (between 1-10) and\n",
    "    pronouns of student and their name and returns a comment\n",
    "    on their work ethic respective to their pronouns.'''\n",
    "    if pronoun_function(pronoun) == 1:\n",
    "        if number == '9' or number == '10':\n",
    "            return f\"{name.title()} works incredibly hard!\"\n",
    "        elif number == '8':\n",
    "            return f\"{name.title()} has been working very diligently in this class.\"\n",
    "        elif number == '7':\n",
    "            return f\"{name.title()} is meeting the standard of work for this computer science class.\"\n",
    "        elif number == '6':\n",
    "            return f\"{name.title()} continues to work, but he could be more motivated.\"\n",
    "        else:\n",
    "            return f\"{name.title()} shows below average motivation to work in the class.\"\n",
    "    if pronoun_function(pronoun) == 2:\n",
    "        if number == '9' or number == '10':\n",
    "            return f\"{name.title()} works incredibly hard!\"\n",
    "        elif number == '8':\n",
    "            return f\"{name.title()} has been working very diligently in this class.\"\n",
    "        elif number == '7':\n",
    "            return f\"{name.title()} is meeting the standard of work for this computer science class.\"\n",
    "        elif number == '6':\n",
    "            return f\"{name.title()} continues to work, but she could be more motivated.\"\n",
    "        else:\n",
    "            return f\"{name.title()} shows below average motivation to work in the class.\"\n",
    "    if pronoun_function(pronoun) == 3:\n",
    "        if number == '9' or number == '10':\n",
    "            return f\"{name.title()} works incredibly hard!\"\n",
    "        elif number == '8':\n",
    "            return f\"{name.title()} has been working very diligently in this class.\"\n",
    "        elif number == '7':\n",
    "            return f\"{name.title()} is meeting the standard of work for this computer science class.\"\n",
    "        elif number == '6':\n",
    "            return f\"{name.title()} continues to work, but they could be more motivated.\"\n",
    "        else:\n",
    "            return f\"{name.title()} shows below average motivation to work in the class.\"\n",
    "\n",
    "\n",
    "work_ethic('Mac', '10', \"she/her\")"
   ]
  },
  {
   "cell_type": "code",
   "execution_count": 7,
   "metadata": {
    "collapsed": false
   },
   "outputs": [
    {
     "data": {
      "text/plain": [
       "'she wrapped up the semester very well, and I hope she is satisfied with her midterm score of an 85.0%.'"
      ]
     },
     "execution_count": 7,
     "metadata": {
     },
     "output_type": "execute_result"
    }
   ],
   "source": [
    "# function for midterm response\n",
    "\n",
    "\n",
    "def midterm_function(number, pronoun):\n",
    "    '''Takes in the score of midterm and pronouns\n",
    "    and returns a response\n",
    "    based on it using the proper pronouns.'''\n",
    "    number = float(number)\n",
    "    if pronoun_function(pronoun) == 1:\n",
    "        if 102 >= number >=93:\n",
    "            return f\"his midterm was one of the top scores in the class, which shows that all of his hard work has paid off. I suggest he sign up for Codewars if he wants an extra challenge.\"\n",
    "        elif 93 > number >= 85:\n",
    "            if number > 89:\n",
    "                return f\"he wrapped up the semester very well, and I hope he is satisfied with his midterm score of a {number}%.\"\n",
    "            return f\"he wrapped up the semester very well, and I hope he is satisfied with his midterm score of an {number}%.\"\n",
    "        elif 85 > number >= 80:\n",
    "            return f\"there was evident struggle in his understanding of the material as shown on the midterm. I am happy to go over it with him if he would like.\"\n",
    "        elif 80 > number >= 75:\n",
    "            return f\"because his midterm resulted in a {number}%, I believe that he has not grasped the concepts very well.\"\n",
    "        else:\n",
    "            return f\"I am sad to say that his midterm test did not end well. However, it is most definitely a positive learning experience.\"\n",
    "    if pronoun_function(pronoun) == 2:\n",
    "        if 102 >= number >=93:\n",
    "            return f\"her midterm was one of the top scores in the class, which shows that all of her hard work has paid off. I suggest she sign up for Codewars if she wants an extra challenge.\"\n",
    "        elif 93 > number >= 85:\n",
    "            if number > 89:\n",
    "                return f\"she wrapped up the semester very well, and I hope she is satisfied with her midterm score of a {number}%.\"\n",
    "            return f\"she wrapped up the semester very well, and I hope she is satisfied with her midterm score of an {number}%.\"\n",
    "        elif 85 > number >= 80:\n",
    "            return f\"there was evident struggle in her understanding of the material as shown on the midterm. I am happy to go over it with her if she would like.\"\n",
    "        elif 80 > number >= 75:\n",
    "            return f\"because her midterm resulted in a {number}%, I believe that she has not grasped the concepts very well.\"\n",
    "        else:\n",
    "            return f\"I am sad to say that her midterm test did not end well. However, it is most definitely a positive learning experience.\"\n",
    "    if pronoun_function(pronoun) == 3:\n",
    "        if 102 >= number >=93:\n",
    "            return f\"their midterm was one of the top scores in the class, which shows that all of their hard work has paid off. I suggest they sign up for Codewars if they want an extra challenge.\"\n",
    "        elif 93 > number >= 85:\n",
    "            if number > 89:\n",
    "                return f\"they wrapped up the semester very well, and I hope they are satisfied with their midterm score of a {number}%.\"\n",
    "            return f\"they wrapped up the semester very well, and I hope they are satisfied with their midterm score of an {number}%.\"\n",
    "        elif 85 > number >= 80:\n",
    "            return f\"there was evident struggle in their understanding of the material as shown on the midterm. I am happy to go over it with them if they would like.\"\n",
    "        elif 80 > number >= 75:\n",
    "            return f\"because their midterm resulted in a {number}%, I believe that they have not grasped the concepts very well.\"\n",
    "        else:\n",
    "            return f\"I am sad to say that their midterm test did not end well. However, it is most definitely a positive learning experience.\"\n",
    "\n",
    "\n",
    "midterm_function('85', 'she/her')"
   ]
  },
  {
   "cell_type": "code",
   "execution_count": 8,
   "metadata": {
    "collapsed": false
   },
   "outputs": [
    {
     "data": {
      "text/plain": [
       "'her problem sets have been consistently subpar with a 78.0% average.'"
      ]
     },
     "execution_count": 8,
     "metadata": {
     },
     "output_type": "execute_result"
    }
   ],
   "source": [
    "# function for problem sets\n",
    "\n",
    "\n",
    "def problemset(number,pronoun):\n",
    "    '''Takes in the problem set score and pronouns\n",
    "    and returns a response based on problem set scores\n",
    "    using the proper pronouns.'''\n",
    "    number = float(number)\n",
    "    if pronoun_function(pronoun) == 1:\n",
    "        if number >= 93:\n",
    "            return f'he has performed consistently well on his problem sets with a {number}% average.'\n",
    "        elif number >= 85:\n",
    "            return f'he has been doing good work on his problem sets with a {number}% average, but he still has room to improve.'\n",
    "        elif number >= 80:\n",
    "            return f'he has been meeting the standard for work on problem sets but still has a lot of room to improve. His average is {number}%.'\n",
    "        elif number < 80:\n",
    "            return f'his problem sets have been consistently subpar with a {number}% average.'\n",
    "    elif pronoun_function(pronoun) == 2:\n",
    "        if number >= 93:\n",
    "            return f'she has performed consistently well on her problem sets with a {number}% average.'\n",
    "        elif number >= 85:\n",
    "            return f'she has been doing good work on her problem sets with a {number}% average, but she still has room to improve.'\n",
    "        elif number >= 80:\n",
    "            return f'she has been meeting the standard for work on problem sets but still has a lot of room to improve. Her average is {number}%.'\n",
    "        elif number < 80:\n",
    "            return f'her problem sets have been consistently subpar with a {number}% average.'\n",
    "    elif pronoun_function(pronoun) == 3:\n",
    "        if number >= 93:\n",
    "            return f'they have performed consistently well on their problem sets with a {number}% average.'\n",
    "        elif number >= 85:\n",
    "            return f'they have been doing good work on their problem sets with a {number}% average, but they still have room to improve.'\n",
    "        elif number >= 80:\n",
    "            return f'they have been meeting the standard for work on problem sets but still have a lot of room to improve.  They have a {number}% average.'\n",
    "        elif number < 80:\n",
    "            return f'their problem sets have been consistently subpar with a {number}% average.'\n",
    "problemset('78','she/her')"
   ]
  },
  {
   "cell_type": "code",
   "execution_count": 9,
   "metadata": {
    "collapsed": false
   },
   "outputs": [
    {
     "data": {
      "text/plain": [
       "'She has collaborated extremely well with her peers and is always involved in discussion.'"
      ]
     },
     "execution_count": 9,
     "metadata": {
     },
     "output_type": "execute_result"
    }
   ],
   "source": [
    "# function for collaboration\n",
    "\n",
    "\n",
    "def collaboration(number, pronoun):\n",
    "    '''Takes in a collaboration ranking (1-10)\n",
    "    and pronouns and returns a response\n",
    "    regarding collaboration based on the ranking,\n",
    "    using the proper pronouns.'''\n",
    "    number = float(number)\n",
    "    if pronoun_function(pronoun) == 1:\n",
    "        if number >= 9:\n",
    "            return f'He has collaborated extremely well with his peers and is always involved in discussion.'\n",
    "        elif number == 8:\n",
    "            return f'He collaborates well with his classmates and is consistently involved in discussion.'\n",
    "        elif number == 7:\n",
    "            return f'He engages in discussion with classmates for the most part, but he occasionally loses focus.'\n",
    "        elif number == 6:\n",
    "            return f'Although He collaborates a fair amount with his classmates, I challenge him to branch out more.'\n",
    "        elif number < 6:\n",
    "            return f'He rarely collaborates with his classmates and I recommend that he works towards building more relationships within the class.'\n",
    "    elif pronoun_function(pronoun) == 2:\n",
    "        if number >= 9:\n",
    "            return f'She has collaborated extremely well with her peers and is always involved in discussion.'\n",
    "        elif number == 8:\n",
    "            return f'She collaborates well with her classmates and is consistently involved in discussion.'\n",
    "        elif number == 7:\n",
    "            return f'She engages in discussion with classmates for the most part, but she occasionally loses focus.'\n",
    "        elif number == 6:\n",
    "            return f'Although she collaborates a fair amount with her classmates, I challenge her to branch out more.'\n",
    "        elif number < 6:\n",
    "            return f'She rarely collaborates with her classmates and I recommend that she works towards building more relationships within the class.'\n",
    "    elif pronoun_function(pronoun) == 3:\n",
    "        if number >= 9:\n",
    "            return f'They have collaborated extremely well with their peers and is always involved in discussion.'\n",
    "        elif number == 8:\n",
    "            return f'They collaborate well with their classmates and is consistently involved in discussion.'\n",
    "        elif number == 7:\n",
    "            return f'They engage in discussion with classmates for the most part, but occasionally loses focus.'\n",
    "        elif number == 6:\n",
    "            return f'Although they collaborate a fair amount with their classmates, I challenge them to branch out more.'\n",
    "        elif number < 6:\n",
    "            return f'They rarely collaborate with their classmates and I recommend that they work towards building more relationships within the class.'\n",
    "\n",
    "collaboration('10', 'she/her')"
   ]
  },
  {
   "cell_type": "code",
   "execution_count": 10,
   "metadata": {
    "collapsed": false
   },
   "outputs": [
    {
     "data": {
      "text/plain": [
       "'Alex is doing very well on her tests, but she has the potential to reach even higher.'"
      ]
     },
     "execution_count": 10,
     "metadata": {
     },
     "output_type": "execute_result"
    }
   ],
   "source": [
    "# function for response to tests\n",
    "\n",
    "\n",
    "def tests(num, name, pronoun):\n",
    "    '''Takes in an overall test score, name, and pronouns and\n",
    "    returns a response based on the respective variables.'''\n",
    "    num = float(num)\n",
    "    if pronoun_function(pronoun) == 1:\n",
    "        if num >=93:\n",
    "            return f\"{name.title()} does fantastically on his tests–I commend his prowess!\"\n",
    "        elif 93 > num >= 85:\n",
    "            return f\"{name.title()} is doing very well on his tests, but he has the potential to reach even higher.\"\n",
    "        elif 85 > num >= 80:\n",
    "            return f\"{name.title()} seems to be struggling with their tests. He should definitely work on in-the-moment retention\"\n",
    "        elif 80 > num >= 75:\n",
    "            return f\"{name.title()} has a lot of trouble on tests. His scores reflect that he has a lot to work on.\"\n",
    "        else:\n",
    "            return f\"{name.title()} sadly has a very worrisome cumulative test score of {num}%. I recommend he come talk with me to go over the tests and understand the concepts we are learning.\"\n",
    "    if pronoun_function(pronoun) == 2:\n",
    "        if num >=93:\n",
    "            return f\"{name.title()} does fantastically on her tests–I commend her prowess!\"\n",
    "        elif 93 > num >= 85:\n",
    "            return f\"{name.title()} is doing very well on her tests, but she has the potential to reach even higher.\"\n",
    "        elif 85 > num >= 80:\n",
    "            return f\"{name.title()} seems to be struggling with her tests. She should definitely work on in-the-moment retention.\"\n",
    "        elif 80 > num >= 75:\n",
    "            return f\"{name.title()} has a lot of trouble on tests. Her scores reflect that he has a lot to work on.\"\n",
    "        else:\n",
    "            return f\"{name.title()} sadly has a very worrisome cumulative test score of {num}%. I recommend she come talk with me to go over the tests and understand the concepts we are learning.\"\n",
    "    if pronoun_function(pronoun) == 3:\n",
    "        if num >=93:\n",
    "            return f\"{name.title()} does fantastically on their tests–I commend their prowess!\"\n",
    "        elif 93 > num >= 85:\n",
    "            return f\"{name.title()} is doing very well on their tests, but they have the potential to reach even higher.\"\n",
    "        elif 85 > num >= 80:\n",
    "            return f\"{name.title()} seems to be struggling with their tests. They should definitely work on in-the-moment retention.\"\n",
    "        elif 80 > num >= 75:\n",
    "            return f\"{name.title()} has a lot of trouble on tests. Their scores reflect that he has a lot to work on.\"\n",
    "        else:\n",
    "            return f\"{name.title()} sadly has a very worrisome cumulative test score of {num}%. I recommend they come talk with me to go over the tests and understand the concepts we are learning.\"\n",
    "\n",
    "\n",
    "tests(85, 'alex', 'she/her')\n",
    "\n",
    "\n",
    "\n",
    "\n"
   ]
  },
  {
   "cell_type": "code",
   "execution_count": 11,
   "metadata": {
    "collapsed": false
   },
   "outputs": [
    {
     "data": {
      "text/plain": [
       "\"'s participation is almost nonexistent, but I hope that he is able to work on it for the future.\""
      ]
     },
     "execution_count": 11,
     "metadata": {
     },
     "output_type": "execute_result"
    }
   ],
   "source": [
    "# Participation function\n",
    "\n",
    "\n",
    "def participation_function(number, pronoun):\n",
    "    '''Takes in the participation rating (number between 1-10)\n",
    "    and pronouns and returns a comment response based on it\n",
    "    with the proper pronouns.'''\n",
    "    if pronoun_function(pronoun) == 1:\n",
    "        if number == '9' or number == '10':\n",
    "            return \" is easily one of the biggest contributors, consistently helping others learn the concepts as well.\"\n",
    "        elif number == '8':\n",
    "            return \"'s participation is very consistent and noticeable. Bravo!\"\n",
    "        elif number == '7':\n",
    "            return \" participates for the most part, but occasionally gets distracted. He can still reach higher.\"\n",
    "        elif number == '6':\n",
    "            return \" struggles in class, and should work on improving his focus.\"\n",
    "        else:\n",
    "            return \"'s participation is almost nonexistent, but I hope that he is able to work on it for the future.\"\n",
    "    if pronoun_function(pronoun) == 2:\n",
    "        if number == '9' or number == '10':\n",
    "            return \" is easily one of the biggest contributors, consistently helping others learn the concepts as well.\"\n",
    "        elif number == '8':\n",
    "            return \"'s participation is very consistent and noticeable. Bravo!\"\n",
    "        elif number == '7':\n",
    "            return \" participates for the most part, but occasionally get distracted. She can still reach higher.\"\n",
    "        elif number == '6':\n",
    "            return \" struggles with participating in class, and should work on improving her focus.\"\n",
    "        else:\n",
    "            return \"'s participation is almost nonexistent, but I hope that she is able to work on it for the future.\"\n",
    "    if pronoun_function(pronoun) == 3:\n",
    "        if number == '9' or number == '10':\n",
    "            return \" is easily one of the biggest contributors regarding participation, consistently helping others learn the concepts as well.\"\n",
    "        elif number == '8':\n",
    "            return \"'s participation is very consistent and noticeable. Bravo!\"\n",
    "        elif number == '7':\n",
    "            return \" participates for the most part, but occasionally gets distracted. They can still reach higher.\"\n",
    "        elif number == '6':\n",
    "            return \" struggles with participating in class, and should work on improving his focus.\"\n",
    "        else:\n",
    "            return \"'s participation is almost nonexistent, but I hope that they are able to work on it for the future.\"\n",
    "\n",
    "participation_function('5', 'he/him')"
   ]
  },
  {
   "cell_type": "code",
   "execution_count": 12,
   "metadata": {
    "collapsed": false
   },
   "outputs": [
    {
     "data": {
      "text/plain": [
       "'She has not seen me much for extra help, but her performance shows she does not require it.'"
      ]
     },
     "execution_count": 12,
     "metadata": {
     },
     "output_type": "execute_result"
    }
   ],
   "source": [
    "# function for extra help\n",
    "\n",
    "def extrahelp(number,number2,name,pronoun):\n",
    "    '''Takes in the extrahelp score (ranking 1-10),\n",
    "    test score (variable number2) of the respective student,\n",
    "    their name, and pronouns and returns a response regarding\n",
    "    the extra time they spend talking with teachers and the\n",
    "    other respective variables.'''\n",
    "    number = float(number)\n",
    "    if pronoun_function(pronoun) == 1:\n",
    "        if number >= 9:\n",
    "            return 'He has consistently seen me for help when he has been having trouble with concepts or other class work.'\n",
    "        elif number == 8:\n",
    "            return 'He usually has come to me for help on tough concepts or class work.'\n",
    "        elif number == 7:\n",
    "            return 'He occasionally swings by my office when he is having trouble grasping concepts or finishing class work.'\n",
    "        elif tests(number2,name,pronoun) == f\"{name.title()} does fantastically on his tests–I commend his prowess!\":\n",
    "            if number < 7:\n",
    "                return 'He has not seen me much for extra help, but his performance shows he does not require it.'\n",
    "        elif number < 7:\n",
    "            return 'He has not seen me much for extra help, even though his performance indicates he could benefit from it.'\n",
    "    elif pronoun_function(pronoun) == 2:\n",
    "        if number >= 9:\n",
    "            return 'She has consistently seen me for help when she has been having trouble with concepts or other class work.'\n",
    "        elif number == 8:\n",
    "            return 'She usually has come to me for help on tough concepts or class work.'\n",
    "        elif number == 7:\n",
    "            return 'She occasionally swings by my office when she is having trouble grasping concepts or finishing class work.'\n",
    "        elif tests(number2,name,pronoun) == f\"{name.title()} does fantastically on her tests–I commend her prowess!\":\n",
    "            if number < 7:\n",
    "                return 'She has not seen me much for extra help, but her performance shows she does not require it.'\n",
    "        elif number < 7:\n",
    "            return 'She has not seen me much for extra help, even though her performance indicates she could benefit from it.'\n",
    "    elif pronoun_function(pronoun) == 3:\n",
    "        if number >= 9:\n",
    "            return 'They have consistently seen me for help when they have been having trouble with concepts or other class work.'\n",
    "        elif number == 8:\n",
    "            return 'They usually come to me for help on tough concepts or class work.'\n",
    "        elif number == 7:\n",
    "            return 'They occasionally swing by my office when they are having trouble grasping concepts or finishing class work.'\n",
    "        elif tests(number2,name,pronoun) == f\"{name.title()} does fantastically on their tests–I commend their prowess!\":\n",
    "            if number < 7:\n",
    "                return 'They have not seen me much for extra help, but his performance shows they does not require it.'\n",
    "        elif number < 7:\n",
    "            return 'They have not seen me much for extra help, even though their performance indicates they could benefit from it.'\n",
    "extrahelp('4', '95','Alex', 'she/her')"
   ]
  },
  {
   "cell_type": "code",
   "execution_count": 13,
   "metadata": {
    "collapsed": false
   },
   "outputs": [
    {
     "data": {
      "text/plain": [
       "'Mike had some lapses in understanding of the concepts, but his growth in the course is noteworthy. His grade for the semester is a B+. I wish him luck in his future endeavors.'"
      ]
     },
     "execution_count": 13,
     "metadata": {
     },
     "output_type": "execute_result"
    }
   ],
   "source": [
    "def overall_function(num, name, pronoun):\n",
    "    '''Takes in the overall grade for the student and returns a conclusion\n",
    "    (name and pronoun specific).'''\n",
    "    num = float(num)\n",
    "    letter = ''\n",
    "    if num >=93:\n",
    "        letter=\"A\"\n",
    "    elif 93 > num >= 90:\n",
    "        letter=\"A-\"\n",
    "    elif 90 > num >= 87:\n",
    "        letter=\"B+\"\n",
    "    elif 87 > num >= 83:\n",
    "        letter='B'\n",
    "    elif 83 > num >= 80:\n",
    "        letter='B-'\n",
    "    elif 80 > num >= 77:\n",
    "        letter=\"C+\"\n",
    "    elif 77 > num >= 73:\n",
    "        letter=\"C\"\n",
    "    elif 73 > num > 70:\n",
    "        letter=\"C-\"\n",
    "\n",
    "    if pronoun_function(pronoun) == 1:\n",
    "        if letter == 'A':\n",
    "            return f\"Even though the curriculum became more challenging, it didn't stop {name.title()} from having a fantasic semester. He earned an A overall for the semester. I am excited to watch him along his path!\"\n",
    "        elif letter == 'A-':\n",
    "            return f\"{name.title()} did fairly well this semester, even as the curriculum intensified. He earns an A- for his semester grade, and I hope he continues to code in the future.\"\n",
    "        elif letter == 'B+':\n",
    "            return f\"{name.title()} had some lapses in understanding of the concepts, but his growth in the course is noteworthy. His grade for the semester is a B+. I wish him luck in his future endeavors.\"\n",
    "        elif letter == 'B':\n",
    "            return f\"Although he struggled with grasping some of the concepts this semester, {name.title()} managed to find his way through the course with a B. Good job!\"\n",
    "        elif letter == 'B-':\n",
    "            return f\"{name.title()} encountered many challenges in Computer Science this semester. He earns a B- for the semester.\"\n",
    "        elif letter == 'C+':\n",
    "            return f\"{name.title()} consistently faced hardship in this class it seems, earning a C+ for his grade. I am always available to help him learn the concepts if he wants to improve his skills.\"\n",
    "        elif letter == 'C':\n",
    "            return f\"{name.title()} had significant trouble in the course this semester. With that said, he still earned a C, which is a passing grade. He is welcome to come speak to me about his performance in class.\"\n",
    "        elif letter == 'C-':\n",
    "            return f\"{name.title()} barely passed this semester in computer science, ending the course with a C-. With that said, I commend his drive to stick with the course until the bitter end. My door is always open if he has any questions.\"\n",
    "        else:\n",
    "            return f\"{name.title()} has not passed the course. I recommend he make some significant changes to his academic habits regarding computer science. I am always here to help and support in anyway I can.\"\n",
    "\n",
    "    if pronoun_function(pronoun) == 2:\n",
    "        if letter == 'A':\n",
    "            return f\"Even though the curriculum became more challenging, it didn't stop {name.title()} from having a fantasic semester. She earned an A overall for the semester. I am excited to watch her along her path!\"\n",
    "        elif letter == 'A-':\n",
    "            return f\"{name.title()} did fairly well this semester, even as the curriculum intensified. She earns an A- for her semester grade, and I hope she continues to code in the future.\"\n",
    "        elif letter == 'B+':\n",
    "            return f\"{name.title()} had some lapses in understanding of the concepts, but her growth in the course is noteworthy. Her grade for the semester is a B+. I wish her luck in her future endeavors.\"\n",
    "        elif letter == 'B':\n",
    "            return f\"Although she struggled with grasping some of the concepts this semester, {name.title()} managed to find her way through the course with a B. Good job!\"\n",
    "        elif letter == 'B-':\n",
    "            return f\"{name.title()} encountered many challenges in Computer Science this semester. She earns a B- for the semester.\"\n",
    "        elif letter == 'C+':\n",
    "            return f\"{name.title()} consistently faced hardship in this class it seems, earning a C+ for her grade. I am always available to help her learn the concepts if she wants to improve his skills.\"\n",
    "        elif letter == 'C':\n",
    "            return f\"{name.title()} had significant trouble in the course this semester. With that said, she still earned a C, which is a passing grade. She is welcome to come speak to me about her performance in class.\"\n",
    "        elif letter == 'C-':\n",
    "            return f\"{name.title()} barely passed this semester in computer science, ending the course with a C-. With that said, I commend her drive to stick with the course until the bitter end. My door is always open if she has any questions.\"\n",
    "        else:\n",
    "            return f\"{name.title()} has not passed the course. I recommend she make some significant changes to her academic habits regarding computer science. I am always here to help and support in anyway I can.\"\n",
    "\n",
    "    if pronoun_function(pronoun) == 3:\n",
    "        if letter == 'A':\n",
    "            return f\"Even though the curriculum became more challenging, it didn't stop {name.title()} from having a fantasic semester. They earned an A overall for the semester. I am excited to watch them along their path!\"\n",
    "        elif letter == 'A-':\n",
    "            return f\"{name.title()} did fairly well this semester, even as the curriculum intensified. They earn an A- for their semester grade, and I hope they continue to code in the future.\"\n",
    "        elif letter == 'B+':\n",
    "            return f\"{name.title()} had some lapses in understanding of the concepts, but their growth in the course is noteworthy. Their grade for the semester is a B+. I wish them luck in her future endeavors.\"\n",
    "        elif letter == 'B':\n",
    "            return f\"Although they struggled with grasping some of the concepts this semester, {name.title()} managed to find their way through the course with a B. Good job!\"\n",
    "        elif letter == 'B-':\n",
    "            return f\"{name.title()} encountered many challenges in Computer Science this semester. They earn a B- for the semester.\"\n",
    "        elif letter == 'C+':\n",
    "            return f\"{name.title()} consistently faced hardship in this class it seems, earning a C+ for their grade. I am always available to help them learn the concepts if they want to improve his skills.\"\n",
    "        elif letter == 'C':\n",
    "            return f\"{name.title()} had significant trouble in the course this semester. With that said, they still earn a C, which is a passing grade. They are welcome to come speak to me about their performance in class.\"\n",
    "        elif letter == 'C-':\n",
    "            return f\"{name.title()} barely passed this semester in computer science, ending the course with a C-. With that said, I commend their drive to stick with the course until the bitter end. My door is always open if they have any questions.\"\n",
    "        else:\n",
    "            return f\"{name.title()} has not passed the course. I recommend they make some significant changes to their academic habits regarding computer science. I am always here to help and support in anyway I can.\"\n",
    "\n",
    "\n",
    "overall_function(87.8, 'mike', 'he/him')"
   ]
  },
  {
   "cell_type": "code",
   "execution_count": 14,
   "metadata": {
    "collapsed": false
   },
   "outputs": [
    {
     "data": {
      "text/plain": [
       "'When it comes to projects, they worked well, only making slight mistakes or errors.'"
      ]
     },
     "execution_count": 14,
     "metadata": {
     },
     "output_type": "execute_result"
    }
   ],
   "source": [
    "# function for projects grade\n",
    "\n",
    "\n",
    "def projects_function(number, pronoun):\n",
    "    '''Takes in the score (out of 100) for projects,\n",
    "    and pronouns of student and returns a case-sensitive response\n",
    "    based on the score.'''\n",
    "    number = float(number)\n",
    "    if pronoun_function(pronoun) == 1:\n",
    "        if number >=93:\n",
    "            return f\"Regarding his projects, they were extremely thorough, thoughtful, and well-done.\"\n",
    "        elif 93 > number >= 85:\n",
    "            return f\"When it comes to projects, he worked well, only making slight mistakes or errors.\"\n",
    "        elif 85 > number >= 80:\n",
    "            return f\"He seemed to struggle a bit during his projects, meeting most (but not all) of the requirements.\"\n",
    "        elif 80 > number >= 75:\n",
    "            return f\"His projects were an area of worry; he averaged a {number}% in this category of graded work.\"\n",
    "        else:\n",
    "            return f\"He seemed to have a plethora of trouble with the projects, but I hope he takes the time to understand his mistakes.\"\n",
    "    if pronoun_function(pronoun) == 2:\n",
    "        if number >=93:\n",
    "            return f\"Regarding her projects, they were extremely thorough, thoughtful, and well-done.\"\n",
    "        elif 93 > number >= 85:\n",
    "            return f\"When it comes to projects, she worked well, only making slight mistakes or errors.\"\n",
    "        elif 85 > number >= 80:\n",
    "            return f\"She seemed to struggle a bit during her projects, meeting most (but not all) of the requirements.\"\n",
    "        elif 80 > number >= 75:\n",
    "            return f\"Her projects were an area of worry; she averaged a {number}% in this category of graded work.\"\n",
    "        else:\n",
    "            return f\"She seemed to have a plethora of trouble with the projects, but I hope she takes the time to understand her mistakes.\"\n",
    "    if pronoun_function(pronoun) == 3:\n",
    "        if number >=93:\n",
    "            return f\"Regarding their projects, they were extremely thorough, thoughtful, and well-done.\"\n",
    "        elif 93 > number >= 85:\n",
    "            return f\"When it comes to projects, they worked well, only making slight mistakes or errors.\"\n",
    "        elif 85 > number >= 80:\n",
    "            return f\"They seemed to struggle a bit during their projects, meeting most (but not all) of the requirements.\"\n",
    "        elif 80 > number >= 75:\n",
    "            return f\"Their projects were an area of worry; they averaged a {number}% in this category of graded work.\"\n",
    "        else:\n",
    "            return f\"They seemed to have a plethora of trouble with the projects, but I hope they take the time to understand her mistakes.\"\n",
    "\n",
    "\n",
    "projects_function(89, 'they/them')"
   ]
  },
  {
   "cell_type": "code",
   "execution_count": 0,
   "metadata": {
    "collapsed": false
   },
   "outputs": [
   ],
   "source": [
   ]
  }
 ],
 "metadata": {
  "kernelspec": {
   "display_name": "Python 3 (system-wide)",
   "language": "python",
   "metadata": {
    "cocalc": {
     "description": "Python 3 programming language",
     "priority": 100,
     "url": "https://www.python.org/"
    }
   },
   "name": "python3"
  },
  "language_info": {
   "codemirror_mode": {
    "name": "ipython",
    "version": 3
   },
   "file_extension": ".py",
   "mimetype": "text/x-python",
   "name": "python",
   "nbconvert_exporter": "python",
   "pygments_lexer": "ipython3",
   "version": "3.6.9"
  }
 },
 "nbformat": 4,
 "nbformat_minor": 0
}